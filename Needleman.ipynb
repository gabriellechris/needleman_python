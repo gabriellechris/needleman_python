{
 "cells": [
  {
   "cell_type": "markdown",
   "metadata": {},
   "source": [
    "# Import libraries"
   ]
  },
  {
   "cell_type": "code",
   "execution_count": 1,
   "metadata": {},
   "outputs": [],
   "source": [
    "import numpy as np"
   ]
  },
  {
   "cell_type": "markdown",
   "metadata": {},
   "source": [
    "# Input the sequence"
   ]
  },
  {
   "cell_type": "code",
   "execution_count": 17,
   "metadata": {},
   "outputs": [
    {
     "name": "stdout",
     "output_type": "stream",
     "text": [
      "Enter seq1 : MNALQM\n",
      "Enter seq2 : NALMSQA\n"
     ]
    }
   ],
   "source": [
    "seq1=input(\"Enter seq1 : \")\n",
    "seq2=input(\"Enter seq2 : \")"
   ]
  },
  {
   "cell_type": "code",
   "execution_count": 18,
   "metadata": {},
   "outputs": [],
   "source": [
    "#seq1=\"MNALQM\"\n",
    "#seq2=\"NALMSQA\""
   ]
  },
  {
   "cell_type": "markdown",
   "metadata": {},
   "source": [
    "# Make the matrix"
   ]
  },
  {
   "cell_type": "code",
   "execution_count": 3,
   "metadata": {},
   "outputs": [],
   "source": [
    "main_matrix=np.zeros((len(seq1)+1,len(seq2)+1))"
   ]
  },
  {
   "cell_type": "code",
   "execution_count": 4,
   "metadata": {},
   "outputs": [],
   "source": [
    "check_matrix=np.zeros((len(seq1),len(seq2)))"
   ]
  },
  {
   "cell_type": "markdown",
   "metadata": {},
   "source": [
    "# Scoring"
   ]
  },
  {
   "cell_type": "code",
   "execution_count": 5,
   "metadata": {},
   "outputs": [],
   "source": [
    "match_score=1\n",
    "mismatch_score=-1\n",
    "gap_score=-2"
   ]
  },
  {
   "cell_type": "markdown",
   "metadata": {},
   "source": [
    "# Filling the check matrix "
   ]
  },
  {
   "cell_type": "code",
   "execution_count": 6,
   "metadata": {},
   "outputs": [],
   "source": [
    "for i in range(len(seq1)):\n",
    "    for j in range(len(seq2)):\n",
    "        if seq1[i] == seq2[j]:\n",
    "            check_matrix[i][j]= match_score\n",
    "        else:\n",
    "            check_matrix[i][j]= mismatch_score"
   ]
  },
  {
   "cell_type": "code",
   "execution_count": 7,
   "metadata": {},
   "outputs": [
    {
     "name": "stdout",
     "output_type": "stream",
     "text": [
      "[[-1. -1. -1.  1. -1. -1. -1.]\n",
      " [ 1. -1. -1. -1. -1. -1. -1.]\n",
      " [-1.  1. -1. -1. -1. -1.  1.]\n",
      " [-1. -1.  1. -1. -1. -1. -1.]\n",
      " [-1. -1. -1. -1. -1.  1. -1.]\n",
      " [-1. -1. -1.  1. -1. -1. -1.]]\n"
     ]
    }
   ],
   "source": [
    "print(check_matrix)"
   ]
  },
  {
   "cell_type": "markdown",
   "metadata": {},
   "source": [
    "# Needleman wunsch algorithm"
   ]
  },
  {
   "cell_type": "markdown",
   "metadata": {},
   "source": [
    "## 1. Initialization"
   ]
  },
  {
   "cell_type": "code",
   "execution_count": 8,
   "metadata": {},
   "outputs": [],
   "source": [
    "for i in range(len(seq1)+1):\n",
    "    main_matrix[i][0] = i*gap_score\n",
    "for j in range(len(seq2)+1):\n",
    "    main_matrix[0][j] = j * gap_score"
   ]
  },
  {
   "cell_type": "markdown",
   "metadata": {},
   "source": [
    "## 2. Fill the matrix"
   ]
  },
  {
   "cell_type": "code",
   "execution_count": 9,
   "metadata": {},
   "outputs": [],
   "source": [
    "for i in range(1,len(seq1)+1):\n",
    "    for j in range(1,len(seq2)+1):\n",
    "        main_matrix[i][j] = max(main_matrix[i-1][j-1]+check_matrix[i-1][j-1],\n",
    "                                main_matrix[i-1][j]+gap_score,\n",
    "                                main_matrix[i][j-1]+ gap_score)\n"
   ]
  },
  {
   "cell_type": "code",
   "execution_count": 10,
   "metadata": {
    "scrolled": true
   },
   "outputs": [
    {
     "name": "stdout",
     "output_type": "stream",
     "text": [
      "[[  0.  -2.  -4.  -6.  -8. -10. -12. -14.]\n",
      " [ -2.  -1.  -3.  -5.  -5.  -7.  -9. -11.]\n",
      " [ -4.  -1.  -2.  -4.  -6.  -6.  -8. -10.]\n",
      " [ -6.  -3.   0.  -2.  -4.  -6.  -7.  -7.]\n",
      " [ -8.  -5.  -2.   1.  -1.  -3.  -5.  -7.]\n",
      " [-10.  -7.  -4.  -1.   0.  -2.  -2.  -4.]\n",
      " [-12.  -9.  -6.  -3.   0.  -1.  -3.  -3.]]\n"
     ]
    }
   ],
   "source": [
    "print(main_matrix)"
   ]
  },
  {
   "cell_type": "markdown",
   "metadata": {},
   "source": [
    "## 3. Traceback"
   ]
  },
  {
   "cell_type": "code",
   "execution_count": 11,
   "metadata": {},
   "outputs": [],
   "source": [
    "align1=\"\"\n",
    "align2=\"\""
   ]
  },
  {
   "cell_type": "code",
   "execution_count": 12,
   "metadata": {},
   "outputs": [],
   "source": [
    "l1=len(seq1)\n",
    "l2=len(seq2)"
   ]
  },
  {
   "cell_type": "code",
   "execution_count": 15,
   "metadata": {},
   "outputs": [],
   "source": [
    "while(l1 >0 and l2 > 0):\n",
    "\n",
    "    if (l1 >0 and l2 > 0 and main_matrix[l1][l2] == main_matrix[l1-1][l2-1]+ check_matrix[l1-1][l2-1]):\n",
    "\n",
    "        align1 = seq1[l1-1] + align1\n",
    "        align2 = seq2[l2-1] + align2\n",
    "\n",
    "        l1 = l1 - 1\n",
    "        l2 = l2 - 1\n",
    "    \n",
    "    elif(l1 > 0 and main_matrix[l1][l2] == main_matrix[l1-1][l2] + gap_score):\n",
    "        align1 = seq1[l1-1] + align1\n",
    "        align2 = \"-\" + align2\n",
    "\n",
    "        l1 = l1 -1\n",
    "    else:\n",
    "        align1 = \"-\" + align1\n",
    "        align2 = seq2[l2-1] + align2\n",
    "\n",
    "        l2 = l2 - 1\n"
   ]
  },
  {
   "cell_type": "markdown",
   "metadata": {},
   "source": [
    "# Result"
   ]
  },
  {
   "cell_type": "code",
   "execution_count": 16,
   "metadata": {},
   "outputs": [
    {
     "name": "stdout",
     "output_type": "stream",
     "text": [
      "NAL--QM\n",
      "NALMSQA\n"
     ]
    }
   ],
   "source": [
    "print(align1)\n",
    "print(align2)"
   ]
  },
  {
   "cell_type": "code",
   "execution_count": null,
   "metadata": {},
   "outputs": [],
   "source": []
  }
 ],
 "metadata": {
  "kernelspec": {
   "display_name": "Python 3",
   "language": "python",
   "name": "python3"
  },
  "language_info": {
   "codemirror_mode": {
    "name": "ipython",
    "version": 3
   },
   "file_extension": ".py",
   "mimetype": "text/x-python",
   "name": "python",
   "nbconvert_exporter": "python",
   "pygments_lexer": "ipython3",
   "version": "3.7.6"
  }
 },
 "nbformat": 4,
 "nbformat_minor": 4
}
